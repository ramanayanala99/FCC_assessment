{
 "cells": [
  {
   "cell_type": "code",
   "execution_count": 4,
   "metadata": {},
   "outputs": [],
   "source": [
    "import pyspark"
   ]
  },
  {
   "cell_type": "code",
   "execution_count": 5,
   "metadata": {},
   "outputs": [],
   "source": [
    "from pyspark.sql import SparkSession\n",
    "from pyspark.sql.types import StructField,StructField,StringType,IntegerType\n",
    "from pyspark.sql.types import ArrayType,DoubleType,BooleanType\n",
    "from pyspark.sql.functions import *"
   ]
  },
  {
   "cell_type": "code",
   "execution_count": 6,
   "metadata": {},
   "outputs": [],
   "source": [
    "spark=SparkSession.builder.appName(\"FCC Assessment\").getOrCreate()"
   ]
  },
  {
   "cell_type": "code",
   "execution_count": 114,
   "metadata": {},
   "outputs": [],
   "source": [
    "import pyspark\n",
    "from pyspark.sql import SparkSession\n",
    "from pyspark.sql.types import StructType,StructField,StringType,IntegerType\n",
    "from pyspark.sql.types import ArrayType,DoubleType,BooleanType\n",
    "from pyspark.sql.functions  import column\n",
    "from pyspark.sql import functions as F"
   ]
  },
  {
   "cell_type": "code",
   "execution_count": 8,
   "metadata": {},
   "outputs": [],
   "source": [
    "#####STEP 1 --LOAD USER TABLE"
   ]
  },
  {
   "cell_type": "code",
   "execution_count": 9,
   "metadata": {},
   "outputs": [],
   "source": [
    "user_schema = StructType([\n",
    "    StructField(\"user_id\", StringType(), True),\n",
    "    StructField(\"ip_address\", StringType(), True),\n",
    "    StructField(\"social_media_handle\", StringType(), True),\n",
    "    StructField(\"email\", StringType(), True)\n",
    "])"
   ]
  },
  {
   "cell_type": "code",
   "execution_count": 10,
   "metadata": {},
   "outputs": [],
   "source": [
    "user_df = spark.read.csv(\n",
    "    \"C:/Users/lenovo/Downloads/user.csv\", schema=user_schema, header=True, sep=\",\")"
   ]
  },
  {
   "cell_type": "code",
   "execution_count": 12,
   "metadata": {},
   "outputs": [],
   "source": [
    "#load user_registration"
   ]
  },
  {
   "cell_type": "code",
   "execution_count": 13,
   "metadata": {},
   "outputs": [],
   "source": [
    "user_registration_df=spark.read.csv(\n",
    "    \"C:/Users/lenovo/Downloads/user_registration.csv\", inferSchema=True, header=True, sep=\",\")"
   ]
  },
  {
   "cell_type": "code",
   "execution_count": null,
   "metadata": {},
   "outputs": [],
   "source": [
    "#load user_play_session"
   ]
  },
  {
   "cell_type": "code",
   "execution_count": 14,
   "metadata": {},
   "outputs": [],
   "source": [
    "user_play_session_df=spark.read.csv(\n",
    "    \"C:/Users/lenovo/Downloads/user_play_session.csv\", inferSchema=True, header=True, sep=\",\")"
   ]
  },
  {
   "cell_type": "code",
   "execution_count": 15,
   "metadata": {},
   "outputs": [],
   "source": [
    "#user_play_session_df.show()"
   ]
  },
  {
   "cell_type": "code",
   "execution_count": null,
   "metadata": {},
   "outputs": [],
   "source": [
    "# load user_plan"
   ]
  },
  {
   "cell_type": "code",
   "execution_count": 100,
   "metadata": {},
   "outputs": [],
   "source": [
    "user_plan_df=spark.read.csv(\"C:/Users/lenovo/Downloads/user_plan.csv\", inferSchema=True, header=True, sep=\",\")"
   ]
  },
  {
   "cell_type": "code",
   "execution_count": 101,
   "metadata": {
    "scrolled": true
   },
   "outputs": [
    {
     "name": "stdout",
     "output_type": "stream",
     "text": [
      "+--------------------+-----------------+-------+-------------------+-------------------+\n",
      "|user_registration_id|payment_detail_id|plan_id|         start_date|           end_date|\n",
      "+--------------------+-----------------+-------+-------------------+-------------------+\n",
      "|                   1|                1|      2|2024-03-02 01:00:00|9999-01-01 01:00:00|\n",
      "|                   2|                2|      3|2024-03-31 02:00:00|2024-10-06 02:00:00|\n",
      "+--------------------+-----------------+-------+-------------------+-------------------+\n",
      "only showing top 2 rows\n",
      "\n"
     ]
    }
   ],
   "source": [
    "user_plan_df.show(2)"
   ]
  },
  {
   "cell_type": "code",
   "execution_count": null,
   "metadata": {},
   "outputs": [],
   "source": [
    "#Load user_payment_detail"
   ]
  },
  {
   "cell_type": "code",
   "execution_count": 17,
   "metadata": {},
   "outputs": [],
   "source": [
    "user_payment_detail_df=spark.read.csv(\"C:/Users/lenovo/Downloads/user_payment_detail.csv\", inferSchema=True, header=True, sep=\",\")"
   ]
  },
  {
   "cell_type": "code",
   "execution_count": null,
   "metadata": {},
   "outputs": [],
   "source": [
    "#load status_code"
   ]
  },
  {
   "cell_type": "code",
   "execution_count": 18,
   "metadata": {},
   "outputs": [],
   "source": [
    "user_status_code_df=spark.read.csv(\"C:/Users/lenovo/Downloads/status_code.csv\", inferSchema=True, header=True, sep=\",\")"
   ]
  },
  {
   "cell_type": "code",
   "execution_count": null,
   "metadata": {},
   "outputs": [],
   "source": [
    "#load plan_payment_frequency"
   ]
  },
  {
   "cell_type": "code",
   "execution_count": 19,
   "metadata": {},
   "outputs": [],
   "source": [
    "user_payment_frequency_df=spark.read.csv(\n",
    "    \"C:/Users/lenovo/Downloads/plan_payment_frequency.csv\",inferSchema=True, header=True, sep=\",\")"
   ]
  },
  {
   "cell_type": "code",
   "execution_count": null,
   "metadata": {},
   "outputs": [],
   "source": [
    "# load channel_code"
   ]
  },
  {
   "cell_type": "code",
   "execution_count": 20,
   "metadata": {},
   "outputs": [],
   "source": [
    "user_channel_code_df=spark.read.csv(\"C:/Users/lenovo/Downloads/channel_code.csv\", inferSchema=True, header=True, sep=\",\")"
   ]
  },
  {
   "cell_type": "code",
   "execution_count": null,
   "metadata": {},
   "outputs": [],
   "source": [
    "# load plan.csv"
   ]
  },
  {
   "cell_type": "code",
   "execution_count": 21,
   "metadata": {},
   "outputs": [],
   "source": [
    "user_plan_df=spark.read.csv(\"C:/Users/lenovo/Downloads/plan.csv\", inferSchema=True, header=True, sep=\",\")"
   ]
  },
  {
   "cell_type": "code",
   "execution_count": 22,
   "metadata": {},
   "outputs": [],
   "source": [
    "#####STEP 2:  CREATE DIM AND FACT TABLE "
   ]
  },
  {
   "cell_type": "code",
   "execution_count": 23,
   "metadata": {},
   "outputs": [],
   "source": [
    "dim_user=user_df.dropDuplicates()"
   ]
  },
  {
   "cell_type": "code",
   "execution_count": 2,
   "metadata": {},
   "outputs": [
    {
     "data": {
      "text/plain": [
       "'dim_user = user_df.join(user_registration_df, \"user_id\", \"left\")     .select(\\n        col(\"user_id\"),\\n        col(\"ip_address\"),\\n        col(\"social_media_handle\"),\\n        col(\"username\"),\\n        col(\"first_name\"),\\n        col(\"last_name\")\\n    ).dropDuplicates()'"
      ]
     },
     "execution_count": 2,
     "metadata": {},
     "output_type": "execute_result"
    }
   ],
   "source": [
    "\"\"\"dim_user = user_df.join(user_registration_df, \"user_id\", \"left\") \\\n",
    "    .select(\n",
    "        col(\"user_id\"),\n",
    "        col(\"ip_address\"),\n",
    "        col(\"social_media_handle\"),\n",
    "        col(\"username\"),\n",
    "        col(\"first_name\"),\n",
    "        col(\"last_name\")\n",
    "    ).dropDuplicates()\"\"\""
   ]
  },
  {
   "cell_type": "code",
   "execution_count": 26,
   "metadata": {},
   "outputs": [],
   "source": [
    "dim_plan = user_plan_df.select(\"plan_id\", \"payment_frequency_code\", \"cost_amount\").dropDuplicates()"
   ]
  },
  {
   "cell_type": "code",
   "execution_count": 27,
   "metadata": {},
   "outputs": [
    {
     "name": "stdout",
     "output_type": "stream",
     "text": [
      "+-------+----------------------+-----------+\n",
      "|plan_id|payment_frequency_code|cost_amount|\n",
      "+-------+----------------------+-----------+\n",
      "|      1|               MONTHLY|       1.99|\n",
      "+-------+----------------------+-----------+\n",
      "only showing top 1 row\n",
      "\n"
     ]
    }
   ],
   "source": [
    "dim_plan.show(1)"
   ]
  },
  {
   "cell_type": "code",
   "execution_count": 28,
   "metadata": {},
   "outputs": [],
   "source": [
    "dim_payment_frequency = user_payment_frequency_df.dropDuplicates()"
   ]
  },
  {
   "cell_type": "code",
   "execution_count": 29,
   "metadata": {},
   "outputs": [
    {
     "name": "stdout",
     "output_type": "stream",
     "text": [
      "+----------------------+-------------------+------------------+\n",
      "|payment_frequency_code|english_description|french_description|\n",
      "+----------------------+-------------------+------------------+\n",
      "|               ONETIME|            Onetime|          Une fois|\n",
      "+----------------------+-------------------+------------------+\n",
      "only showing top 1 row\n",
      "\n"
     ]
    }
   ],
   "source": [
    "dim_payment_frequency.show(1)"
   ]
  },
  {
   "cell_type": "code",
   "execution_count": 30,
   "metadata": {},
   "outputs": [],
   "source": [
    "dim_status = user_status_code_df.dropDuplicates()"
   ]
  },
  {
   "cell_type": "code",
   "execution_count": 31,
   "metadata": {},
   "outputs": [
    {
     "name": "stdout",
     "output_type": "stream",
     "text": [
      "+------------------------+-------------------+--------------------+\n",
      "|play_session_status_code|english_description|  french_description|\n",
      "+------------------------+-------------------+--------------------+\n",
      "|                 TIMEOUT|    Session timeout|Délai d'expiratio...|\n",
      "+------------------------+-------------------+--------------------+\n",
      "only showing top 1 row\n",
      "\n"
     ]
    }
   ],
   "source": [
    "dim_status.show(1)"
   ]
  },
  {
   "cell_type": "code",
   "execution_count": 32,
   "metadata": {},
   "outputs": [],
   "source": [
    "dim_channel = user_channel_code_df.dropDuplicates()"
   ]
  },
  {
   "cell_type": "code",
   "execution_count": 33,
   "metadata": {},
   "outputs": [
    {
     "name": "stdout",
     "output_type": "stream",
     "text": [
      "+-------------------------+-------------------+------------------+\n",
      "|play_session_channel_code|english_description|french_description|\n",
      "+-------------------------+-------------------+------------------+\n",
      "|                  BROWSER|            Browser|        Navigateur|\n",
      "+-------------------------+-------------------+------------------+\n",
      "only showing top 1 row\n",
      "\n"
     ]
    }
   ],
   "source": [
    "dim_channel.show(1)"
   ]
  },
  {
   "cell_type": "code",
   "execution_count": 34,
   "metadata": {},
   "outputs": [],
   "source": [
    "dim_payment_method = user_payment_detail_df.dropDuplicates()"
   ]
  },
  {
   "cell_type": "code",
   "execution_count": 35,
   "metadata": {},
   "outputs": [
    {
     "name": "stdout",
     "output_type": "stream",
     "text": [
      "+-----------------+--------------------+--------------------+---------------------+\n",
      "|payment_detail_id| payment_method_code|payment_method_value|payment_method_expiry|\n",
      "+-----------------+--------------------+--------------------+---------------------+\n",
      "|              105|MOBILE_PHONE_PLAT...|            ApplePay|                09/25|\n",
      "+-----------------+--------------------+--------------------+---------------------+\n",
      "only showing top 1 row\n",
      "\n"
     ]
    }
   ],
   "source": [
    "dim_payment_method.show(1)"
   ]
  },
  {
   "cell_type": "code",
   "execution_count": 36,
   "metadata": {
    "scrolled": true
   },
   "outputs": [
    {
     "name": "stdout",
     "output_type": "stream",
     "text": [
      "+---------------+-------+--------------------+--------------------+------------+-----------+-----------+\n",
      "|play_session_id|user_id|      start_datetime|        end_datetime|channel_code|status_code|total_score|\n",
      "+---------------+-------+--------------------+--------------------+------------+-----------+-----------+\n",
      "|              0|    309|2024-12-11 13:26:...|2024-12-11 18:01:...|     BROWSER|  COMPLETED|       1081|\n",
      "|              1|    179|2024-02-13 16:51:...|2024-02-13 23:17:...|      MOBILE|    ABORTED|       4271|\n",
      "+---------------+-------+--------------------+--------------------+------------+-----------+-----------+\n",
      "only showing top 2 rows\n",
      "\n"
     ]
    }
   ],
   "source": [
    "user_play_session_df.show(2)"
   ]
  },
  {
   "cell_type": "code",
   "execution_count": 37,
   "metadata": {},
   "outputs": [],
   "source": [
    "dim_user_play_session=user_play_session_df.dropDuplicates()"
   ]
  },
  {
   "cell_type": "code",
   "execution_count": 38,
   "metadata": {},
   "outputs": [],
   "source": [
    "dim_payment_detail=user_payment_detail_df.dropDuplicates()"
   ]
  },
  {
   "cell_type": "code",
   "execution_count": 39,
   "metadata": {},
   "outputs": [
    {
     "name": "stdout",
     "output_type": "stream",
     "text": [
      "+-----------------+--------------------+--------------------+---------------------+\n",
      "|payment_detail_id| payment_method_code|payment_method_value|payment_method_expiry|\n",
      "+-----------------+--------------------+--------------------+---------------------+\n",
      "|              105|MOBILE_PHONE_PLAT...|            ApplePay|                09/25|\n",
      "|              116|MOBILE_PHONE_PLAT...|          SamsungPay|                03/27|\n",
      "+-----------------+--------------------+--------------------+---------------------+\n",
      "only showing top 2 rows\n",
      "\n"
     ]
    }
   ],
   "source": [
    "dim_payment_detail.show(2)"
   ]
  },
  {
   "cell_type": "code",
   "execution_count": 40,
   "metadata": {},
   "outputs": [],
   "source": [
    "dim_registration=user_registration_df.dropDuplicates()"
   ]
  },
  {
   "cell_type": "code",
   "execution_count": 41,
   "metadata": {
    "scrolled": false
   },
   "outputs": [
    {
     "name": "stdout",
     "output_type": "stream",
     "text": [
      "+--------------------+-------+--------+-------------------+----------+---------+\n",
      "|user_registration_id|user_id|username|              email|first_name|last_name|\n",
      "+--------------------+-------+--------+-------------------+----------+---------+\n",
      "|                 103|    246|  lcantu| lcantu@example.net|  Lorraine|    Cantu|\n",
      "|                 144|    359| bbarnes|bbarnes@example.net|     Brett|   Barnes|\n",
      "+--------------------+-------+--------+-------------------+----------+---------+\n",
      "only showing top 2 rows\n",
      "\n"
     ]
    }
   ],
   "source": [
    "dim_registration.show(2)"
   ]
  },
  {
   "cell_type": "code",
   "execution_count": 102,
   "metadata": {},
   "outputs": [],
   "source": [
    "dim_user_plan=user_plan_df.dropDuplicates()"
   ]
  },
  {
   "cell_type": "code",
   "execution_count": 103,
   "metadata": {
    "scrolled": true
   },
   "outputs": [
    {
     "name": "stdout",
     "output_type": "stream",
     "text": [
      "+--------------------+-----------------+-------+-------------------+-------------------+\n",
      "|user_registration_id|payment_detail_id|plan_id|         start_date|           end_date|\n",
      "+--------------------+-----------------+-------+-------------------+-------------------+\n",
      "|                   9|                9|      2|2024-02-14 01:00:00|2024-12-16 01:00:00|\n",
      "|                 108|              108|      1|2024-10-16 02:00:00|9999-01-01 01:00:00|\n",
      "+--------------------+-----------------+-------+-------------------+-------------------+\n",
      "only showing top 2 rows\n",
      "\n"
     ]
    }
   ],
   "source": [
    "dim_user_plan.show(2)"
   ]
  },
  {
   "cell_type": "code",
   "execution_count": null,
   "metadata": {},
   "outputs": [],
   "source": [
    "# Create Fact table based on user session "
   ]
  },
  {
   "cell_type": "code",
   "execution_count": 55,
   "metadata": {},
   "outputs": [],
   "source": [
    "fact_play_sessions_df = dim_user_play_session.alias(\"ups\") \\\n",
    "    .join(dim_user.alias(\"u\"), on=\"user_id\", how=\"inner\") \\\n",
    "    .join(dim_channel.alias(\"c\"), dim_user_play_session.channel_code == dim_channel.play_session_channel_code, \"inner\") \\\n",
    "    .join(dim_status.alias(\"s\"), dim_user_play_session.status_code == dim_status.play_session_status_code, \"inner\") \\\n",
    "    .select(\n",
    "        col(\"ups.play_session_id\"),\n",
    "        col(\"ups.user_id\"),\n",
    "        col(\"u.ip_address\"),\n",
    "        col(\"u.social_media_handle\"),\n",
    "        col(\"u.email\"),\n",
    "        col(\"c.play_session_channel_code\").alias(\"channel_code\"),\n",
    "        col(\"c.english_description\").alias(\"channel_name\"),\n",
    "        col(\"s.play_session_status_code\").alias(\"status_code\"),\n",
    "        col(\"s.english_description\").alias(\"status_name\"),\n",
    "        col(\"ups.start_datetime\"),\n",
    "        col(\"ups.end_datetime\"),\n",
    "        col(\"ups.total_score\")\n",
    "    )"
   ]
  },
  {
   "cell_type": "code",
   "execution_count": 162,
   "metadata": {
    "scrolled": true
   },
   "outputs": [
    {
     "name": "stdout",
     "output_type": "stream",
     "text": [
      "+---------------+-------+-------------+-------------------+------------------+------------+------------------+-----------+-----------------+--------------------+--------------------+-----------+------------------------+\n",
      "|play_session_id|user_id|   ip_address|social_media_handle|             email|channel_code|      channel_name|status_code|      status_name|      start_datetime|        end_datetime|total_score|session_duration_minutes|\n",
      "+---------------+-------+-------------+-------------------+------------------+------------+------------------+-----------+-----------------+--------------------+--------------------+-----------+------------------------+\n",
      "|            118|    418|10.162.149.64|             ccross|ccross@example.org|      MOBILE|Mobile application|  COMPLETED|Session completed|2024-06-26 12:33:...|2024-06-26 13:37:...|        772|                    64.0|\n",
      "+---------------+-------+-------------+-------------------+------------------+------------+------------------+-----------+-----------------+--------------------+--------------------+-----------+------------------------+\n",
      "only showing top 1 row\n",
      "\n"
     ]
    }
   ],
   "source": [
    "fact_play_sessions_df.show(1)"
   ]
  },
  {
   "cell_type": "code",
   "execution_count": null,
   "metadata": {},
   "outputs": [],
   "source": [
    "#To know which channel are using more"
   ]
  },
  {
   "cell_type": "code",
   "execution_count": 62,
   "metadata": {
    "scrolled": true
   },
   "outputs": [
    {
     "name": "stdout",
     "output_type": "stream",
     "text": [
      "+------------+-----+\n",
      "|channel_code|count|\n",
      "+------------+-----+\n",
      "|      MOBILE|  930|\n",
      "|     BROWSER|  941|\n",
      "+------------+-----+\n",
      "\n"
     ]
    }
   ],
   "source": [
    "fact_play_sessions_df.groupby(\"channel_code\").count().show()"
   ]
  },
  {
   "cell_type": "code",
   "execution_count": null,
   "metadata": {},
   "outputs": [],
   "source": [
    "# Find the play count "
   ]
  },
  {
   "cell_type": "code",
   "execution_count": 163,
   "metadata": {},
   "outputs": [
    {
     "name": "stdout",
     "output_type": "stream",
     "text": [
      "+------------+----------+---------------+\n",
      "|channel_code|play_count|total_score_sum|\n",
      "+------------+----------+---------------+\n",
      "|     BROWSER|       941|        2434675|\n",
      "|      MOBILE|       930|        2321364|\n",
      "+------------+----------+---------------+\n",
      "\n"
     ]
    }
   ],
   "source": [
    "fact_play_sessions_df \\\n",
    "    .groupBy(\"channel_code\") \\\n",
    "    .agg(\n",
    "        F.count(\"*\").alias(\"play_count\"),\n",
    "        F.sum(\"total_score\").alias(\"total_score_sum\")\n",
    "    ) \\\n",
    "    .orderBy(\"channel_code\") \\\n",
    "    .show()"
   ]
  },
  {
   "cell_type": "code",
   "execution_count": null,
   "metadata": {},
   "outputs": [],
   "source": []
  },
  {
   "cell_type": "code",
   "execution_count": null,
   "metadata": {},
   "outputs": [],
   "source": [
    "#To know the playing status details"
   ]
  },
  {
   "cell_type": "code",
   "execution_count": 89,
   "metadata": {
    "scrolled": true
   },
   "outputs": [
    {
     "name": "stdout",
     "output_type": "stream",
     "text": [
      "+-----------+-----+\n",
      "|status_code|count|\n",
      "+-----------+-----+\n",
      "|    ABORTED|  661|\n",
      "|  COMPLETED|  607|\n",
      "+-----------+-----+\n",
      "only showing top 2 rows\n",
      "\n"
     ]
    }
   ],
   "source": [
    "fact_play_sessions_df.groupby(\"status_code\").count().orderBy(col(\"count\").desc()).show(2)"
   ]
  },
  {
   "cell_type": "code",
   "execution_count": null,
   "metadata": {},
   "outputs": [],
   "source": [
    "#To find the duration of play -- "
   ]
  },
  {
   "cell_type": "code",
   "execution_count": null,
   "metadata": {},
   "outputs": [],
   "source": [
    "from pyspark.sql.functions import col, unix_timestamp, round"
   ]
  },
  {
   "cell_type": "code",
   "execution_count": 81,
   "metadata": {},
   "outputs": [
    {
     "name": "stdout",
     "output_type": "stream",
     "text": [
      "+---------------+-------+------------+-----------+------------------------+\n",
      "|play_session_id|user_id|channel_code|total_score|session_duration_minutes|\n",
      "+---------------+-------+------------+-----------+------------------------+\n",
      "|            118|    418|      MOBILE|        772|                    64.0|\n",
      "|            161|     73|      MOBILE|       2054|                   201.0|\n",
      "+---------------+-------+------------+-----------+------------------------+\n",
      "only showing top 2 rows\n",
      "\n"
     ]
    }
   ],
   "source": [
    "fact_play_sessions_df.withColumn(\n",
    "    \"session_duration_minutes\",\n",
    "    round((unix_timestamp(\"end_datetime\") - unix_timestamp(\"start_datetime\")) / 60, 2)\n",
    ").select(\"play_session_id\",\"user_id\",\"channel_code\",\"total_score\",\"session_duration_minutes\").show(2)\n",
    "#fact_play_sessions_df.\n",
    "#.withColumn(\"session_duration_minutes\", round((unix_timestamp(\"end_datetime\") - unix_timestamp(\"start_datetime\")) / 60, 2))\n"
   ]
  },
  {
   "cell_type": "code",
   "execution_count": 90,
   "metadata": {},
   "outputs": [],
   "source": [
    "#fact_play_sessions_df.show(2)"
   ]
  },
  {
   "cell_type": "code",
   "execution_count": 151,
   "metadata": {},
   "outputs": [],
   "source": [
    "#fact_play_sessions_df.write.mode(\"overwrite\").parquet(\"C:/Users/lenovo/Downloads/fact_play_sessions\")"
   ]
  },
  {
   "cell_type": "code",
   "execution_count": null,
   "metadata": {},
   "outputs": [],
   "source": [
    "# Fact based on user plan and payment"
   ]
  },
  {
   "cell_type": "code",
   "execution_count": 98,
   "metadata": {
    "scrolled": true
   },
   "outputs": [
    {
     "name": "stdout",
     "output_type": "stream",
     "text": [
      "+-------+--------------+-------------------+-----+\n",
      "|user_id|    ip_address|social_media_handle|email|\n",
      "+-------+--------------+-------------------+-----+\n",
      "|     41|10.130.164.103|               jkim| null|\n",
      "|    103|  172.19.40.11|           tshannon| null|\n",
      "+-------+--------------+-------------------+-----+\n",
      "only showing top 2 rows\n",
      "\n"
     ]
    }
   ],
   "source": [
    "dim_user.show(2)"
   ]
  },
  {
   "cell_type": "code",
   "execution_count": 104,
   "metadata": {
    "scrolled": true
   },
   "outputs": [
    {
     "name": "stdout",
     "output_type": "stream",
     "text": [
      "+--------------------+-----------------+-------+-------------------+-------------------+\n",
      "|user_registration_id|payment_detail_id|plan_id|         start_date|           end_date|\n",
      "+--------------------+-----------------+-------+-------------------+-------------------+\n",
      "|                   9|                9|      2|2024-02-14 01:00:00|2024-12-16 01:00:00|\n",
      "|                 108|              108|      1|2024-10-16 02:00:00|9999-01-01 01:00:00|\n",
      "+--------------------+-----------------+-------+-------------------+-------------------+\n",
      "only showing top 2 rows\n",
      "\n"
     ]
    }
   ],
   "source": [
    "dim_user_plan.show(2)"
   ]
  },
  {
   "cell_type": "code",
   "execution_count": 107,
   "metadata": {},
   "outputs": [],
   "source": [
    "fact_user_plan_df = (\n",
    "    dim_user_plan\n",
    "    # Join with user registration\n",
    "    .join(dim_registration, \"user_registration_id\", \"left\")\n",
    "    # Join with user dimension\n",
    "    .join(dim_user, \"user_id\", \"left\")\n",
    "    # Join with plan dimension\n",
    "    .join(dim_plan, \"plan_id\", \"left\")\n",
    "    # Join with payment frequency dimension\n",
    "    .join(dim_payment_frequency, \"payment_frequency_code\", \"left\")\n",
    "    # Join with payment details\n",
    "    .join(dim_payment_detail, \"payment_detail_id\", \"left\"))"
   ]
  },
  {
   "cell_type": "code",
   "execution_count": 161,
   "metadata": {},
   "outputs": [
    {
     "data": {
      "text/plain": [
       "DataFrame[summary: string, payment_detail_id: string, payment_frequency_code: string, plan_id: string, user_id: string, user_registration_id: string, username: string, email: string, first_name: string, last_name: string, ip_address: string, social_media_handle: string, email: string, cost_amount: string, english_description: string, french_description: string, payment_method_code: string, payment_method_value: string, payment_method_expiry: string]"
      ]
     },
     "execution_count": 161,
     "metadata": {},
     "output_type": "execute_result"
    }
   ],
   "source": [
    "fact_user_plan_df.describe()"
   ]
  },
  {
   "cell_type": "code",
   "execution_count": 77,
   "metadata": {},
   "outputs": [],
   "source": [
    "fact_user_plan_df = (\n",
    "    dim_user_plan\n",
    "    # Join with user registration\n",
    "    .join(dim_registration, \"user_registration_id\", \"left\")\n",
    "    # Join with user dimension\n",
    "    .join(dim_user, \"user_id\", \"left\")\n",
    "    # Join with plan dimension\n",
    "    .join(dim_plan, \"plan_id\", \"left\")\n",
    "    # Join with payment frequency dimension\n",
    "    .join(dim_payment_frequency, \"payment_frequency_code\", \"left\")\n",
    "    # Join with payment details\n",
    "    .join(dim_payment_detail, \"payment_detail_id\", \"left\")\n",
    "    # Select fact table columns\n",
    "    .select(\n",
    "        col(\"user_registration_id\"),\n",
    "        col(\"user_id\"),\n",
    "        col(\"username\"),\n",
    "        col(\"first_name\"),\n",
    "        col(\"last_name\"),\n",
    "        col(\"user_df.email\").alias(\"user_email\"),\n",
    "        col(\"ip_address\"),\n",
    "        col(\"social_media_handle\"),\n",
    "        col(\"plan_id\"),\n",
    "        col(\"payment_frequency_code\"),\n",
    "        col(\"english_description\").alias(\"payment_frequency_english\"),\n",
    "        col(\"cost_amount\"),\n",
    "        col(\"payment_method_code\"),\n",
    "        col(\"payment_method_value\"),\n",
    "        col(\"payment_method_expiry\"),\n",
    "        col(\"start_date\"),\n",
    "        col(\"end_date\")\n",
    "    )\n",
    ")\n"
   ]
  },
  {
   "cell_type": "code",
   "execution_count": null,
   "metadata": {
    "scrolled": true
   },
   "outputs": [],
   "source": []
  },
  {
   "cell_type": "code",
   "execution_count": null,
   "metadata": {},
   "outputs": [],
   "source": [
    "# To find the highest paid user"
   ]
  },
  {
   "cell_type": "code",
   "execution_count": 115,
   "metadata": {
    "scrolled": true
   },
   "outputs": [
    {
     "name": "stdout",
     "output_type": "stream",
     "text": [
      "+-------+----------+\n",
      "|user_id|total_cost|\n",
      "+-------+----------+\n",
      "|    211|     24.98|\n",
      "|    204|     24.98|\n",
      "|    456|     24.98|\n",
      "|      7|     24.98|\n",
      "|     19|     24.98|\n",
      "|    244|     24.98|\n",
      "|    486|     16.98|\n",
      "|     78|     16.98|\n",
      "|    367|     16.98|\n",
      "|    375|     16.98|\n",
      "+-------+----------+\n",
      "only showing top 10 rows\n",
      "\n"
     ]
    }
   ],
   "source": [
    "fact_user_plan_df \\\n",
    "    .groupBy(\"user_id\") \\\n",
    "    .agg(F.sum(\"cost_amount\").alias(\"total_cost\")) \\\n",
    "    .orderBy(F.desc(\"total_cost\")) \\\n",
    "    .show(10)"
   ]
  },
  {
   "cell_type": "code",
   "execution_count": null,
   "metadata": {},
   "outputs": [],
   "source": [
    "# Find most expensive plan"
   ]
  },
  {
   "cell_type": "code",
   "execution_count": 116,
   "metadata": {
    "scrolled": true
   },
   "outputs": [
    {
     "name": "stdout",
     "output_type": "stream",
     "text": [
      "+-------+-------+-----------+\n",
      "|user_id|plan_id|cost_amount|\n",
      "+-------+-------+-----------+\n",
      "|    395|      3|      14.99|\n",
      "|     78|      3|      14.99|\n",
      "|    375|      3|      14.99|\n",
      "|    461|      3|      14.99|\n",
      "|    166|      3|      14.99|\n",
      "+-------+-------+-----------+\n",
      "only showing top 5 rows\n",
      "\n"
     ]
    }
   ],
   "source": [
    "fact_user_plan_df.select(\"user_id\", \"plan_id\", \"cost_amount\") \\\n",
    "    .orderBy(F.desc(\"cost_amount\")).show(5)"
   ]
  },
  {
   "cell_type": "code",
   "execution_count": null,
   "metadata": {},
   "outputs": [],
   "source": [
    "# Find the users based on total cost-- rank "
   ]
  },
  {
   "cell_type": "code",
   "execution_count": 154,
   "metadata": {},
   "outputs": [],
   "source": [
    "from pyspark.sql import functions as F\n",
    "from pyspark.sql.window import Window"
   ]
  },
  {
   "cell_type": "code",
   "execution_count": 155,
   "metadata": {},
   "outputs": [],
   "source": [
    "f1=fact_user_plan_df \\\n",
    "    .groupBy(\"user_id\") \\\n",
    "    .agg(F.sum(\"cost_amount\").alias(\"total_spend\"))"
   ]
  },
  {
   "cell_type": "code",
   "execution_count": 119,
   "metadata": {},
   "outputs": [
    {
     "name": "stdout",
     "output_type": "stream",
     "text": [
      "+-------+-----------+\n",
      "|user_id|total_spend|\n",
      "+-------+-----------+\n",
      "|    148|       9.99|\n",
      "|    496|      14.99|\n",
      "|     31|       9.99|\n",
      "|     85|       1.99|\n",
      "+-------+-----------+\n",
      "only showing top 4 rows\n",
      "\n"
     ]
    }
   ],
   "source": [
    "f1."
   ]
  },
  {
   "cell_type": "code",
   "execution_count": 136,
   "metadata": {
    "scrolled": true
   },
   "outputs": [],
   "source": [
    "window_spec = Window.orderBy(F.desc(\"total_spend\"))"
   ]
  },
  {
   "cell_type": "code",
   "execution_count": 140,
   "metadata": {},
   "outputs": [],
   "source": [
    "ranked_users_df = f1.withColumn(\"rank\", F.rank().over(window_spec)) \\\n",
    "                    .orderBy(F.asc(\"rank\"))"
   ]
  },
  {
   "cell_type": "code",
   "execution_count": 141,
   "metadata": {
    "scrolled": true
   },
   "outputs": [
    {
     "name": "stdout",
     "output_type": "stream",
     "text": [
      "+-------+-----------+----+\n",
      "|user_id|total_spend|rank|\n",
      "+-------+-----------+----+\n",
      "|    211|      24.98|   1|\n",
      "|     19|      24.98|   1|\n",
      "|    456|      24.98|   1|\n",
      "|      7|      24.98|   1|\n",
      "|    244|      24.98|   1|\n",
      "+-------+-----------+----+\n",
      "only showing top 5 rows\n",
      "\n"
     ]
    }
   ],
   "source": [
    "ranked_users_df.show(5)"
   ]
  },
  {
   "cell_type": "code",
   "execution_count": 143,
   "metadata": {},
   "outputs": [],
   "source": [
    "ranked_users_df1 = f1.withColumn(\"rank\", F.dense_rank().over(window_spec)) \\\n",
    "                    .orderBy(F.asc(\"rank\"))"
   ]
  },
  {
   "cell_type": "code",
   "execution_count": 145,
   "metadata": {},
   "outputs": [
    {
     "name": "stdout",
     "output_type": "stream",
     "text": [
      "+-------+-----------+----+\n",
      "|user_id|total_spend|rank|\n",
      "+-------+-----------+----+\n",
      "|    211|      24.98|   1|\n",
      "|    204|      24.98|   1|\n",
      "|    456|      24.98|   1|\n",
      "|      7|      24.98|   1|\n",
      "|     19|      24.98|   1|\n",
      "|    244|      24.98|   1|\n",
      "|     78|      16.98|   2|\n",
      "|    375|      16.98|   2|\n",
      "|    367|      16.98|   2|\n",
      "|    259|      16.98|   2|\n",
      "+-------+-----------+----+\n",
      "only showing top 10 rows\n",
      "\n"
     ]
    }
   ],
   "source": [
    "ranked_users_df1.show(10)"
   ]
  },
  {
   "cell_type": "code",
   "execution_count": 152,
   "metadata": {},
   "outputs": [],
   "source": [
    "# Save fact table\n"
   ]
  },
  {
   "cell_type": "code",
   "execution_count": 153,
   "metadata": {},
   "outputs": [],
   "source": [
    "#fact_user_plan_df.write.mode(\"overwrite\").parquet(\"C:/Users/lenovo/Downloads/fact_play_sessions\")"
   ]
  },
  {
   "cell_type": "code",
   "execution_count": null,
   "metadata": {},
   "outputs": [],
   "source": [
    "#subscription details"
   ]
  },
  {
   "cell_type": "code",
   "execution_count": 157,
   "metadata": {},
   "outputs": [
    {
     "name": "stdout",
     "output_type": "stream",
     "text": [
      "+----------------------+-----+\n",
      "|payment_frequency_code|count|\n",
      "+----------------------+-----+\n",
      "|               MONTHLY|   74|\n",
      "|              ANNUALLY|   66|\n",
      "|               ONETIME|   75|\n",
      "+----------------------+-----+\n",
      "\n"
     ]
    }
   ],
   "source": [
    "fact_user_plan_df.groupby(\"payment_frequency_code\").count().show()"
   ]
  },
  {
   "cell_type": "code",
   "execution_count": null,
   "metadata": {},
   "outputs": [],
   "source": [
    "Revenue generated through app vs mobile"
   ]
  },
  {
   "cell_type": "code",
   "execution_count": null,
   "metadata": {},
   "outputs": [],
   "source": [
    "fact_user_plan_df"
   ]
  },
  {
   "cell_type": "code",
   "execution_count": 167,
   "metadata": {},
   "outputs": [],
   "source": [
    "fact_final_df = (\n",
    "    fact_user_plan_df\n",
    "    # Join with user registration\n",
    "    .join(fact_play_sessions_df, \"user_id\", \"inner\"))"
   ]
  },
  {
   "cell_type": "code",
   "execution_count": 170,
   "metadata": {},
   "outputs": [
    {
     "name": "stdout",
     "output_type": "stream",
     "text": [
      "+------------+----------+------------------+\n",
      "|channel_code|play_count|     total_revenue|\n",
      "+------------+----------+------------------+\n",
      "|     BROWSER|       425| 3689.749999999962|\n",
      "|      MOBILE|       399|3514.0099999999647|\n",
      "+------------+----------+------------------+\n",
      "\n"
     ]
    }
   ],
   "source": [
    "fact_final_df \\\n",
    "    .groupBy(\"channel_code\") \\\n",
    "    .agg(\n",
    "        F.count(\"*\").alias(\"play_count\"),\n",
    "        F.sum(\"cost_amount\").alias(\"total_revenue\")\n",
    "    ) \\\n",
    "    .orderBy(\"channel_code\") \\\n",
    "    .show()"
   ]
  },
  {
   "cell_type": "code",
   "execution_count": 168,
   "metadata": {},
   "outputs": [
    {
     "name": "stdout",
     "output_type": "stream",
     "text": [
      "+-------+-----------------+----------------------+-------+--------------------+-------------------+-------------------+--------+------------------+----------+---------+--------------+-------------------+------------------+-----------+-------------------+------------------+--------------------+--------------------+---------------------+---------------+--------------+-------------------+------------------+------------+------------+-----------+-----------------+--------------------+--------------------+-----------+------------------------+\n",
      "|user_id|payment_detail_id|payment_frequency_code|plan_id|user_registration_id|         start_date|           end_date|username|             email|first_name|last_name|    ip_address|social_media_handle|             email|cost_amount|english_description|french_description| payment_method_code|payment_method_value|payment_method_expiry|play_session_id|    ip_address|social_media_handle|             email|channel_code|channel_name|status_code|      status_name|      start_datetime|        end_datetime|total_score|session_duration_minutes|\n",
      "+-------+-----------------+----------------------+-------+--------------------+-------------------+-------------------+--------+------------------+----------+---------+--------------+-------------------+------------------+-----------+-------------------+------------------+--------------------+--------------------+---------------------+---------------+--------------+-------------------+------------------+------------+------------+-----------+-----------------+--------------------+--------------------+-----------+------------------------+\n",
      "|    496|              197|               ONETIME|      3|                 197|2024-10-08 02:00:00|9999-01-01 01:00:00|  tflynn|tflynn@example.net|       Tim|    Flynn|172.24.146.105|               null|tflynn@example.net|      14.99|            Onetime|          Une fois|MOBILE_PHONE_PLAT...|            ApplePay|                07/26|           1897|172.24.146.105|               null|tflynn@example.net|     BROWSER|     Browser|  COMPLETED|Session completed|2024-09-06 06:05:...|2024-09-06 15:20:...|       2469|                   555.0|\n",
      "+-------+-----------------+----------------------+-------+--------------------+-------------------+-------------------+--------+------------------+----------+---------+--------------+-------------------+------------------+-----------+-------------------+------------------+--------------------+--------------------+---------------------+---------------+--------------+-------------------+------------------+------------+------------+-----------+-----------------+--------------------+--------------------+-----------+------------------------+\n",
      "only showing top 1 row\n",
      "\n"
     ]
    }
   ],
   "source": [
    "fact_final_df.show(1)"
   ]
  },
  {
   "cell_type": "code",
   "execution_count": 164,
   "metadata": {
    "scrolled": true
   },
   "outputs": [
    {
     "name": "stdout",
     "output_type": "stream",
     "text": [
      "+-----------------+----------------------+-------+-------+--------------------+-------------------+-------------------+--------+------------------+----------+---------+--------------+-------------------+------------------+-----------+-------------------+------------------+--------------------+--------------------+---------------------+\n",
      "|payment_detail_id|payment_frequency_code|plan_id|user_id|user_registration_id|         start_date|           end_date|username|             email|first_name|last_name|    ip_address|social_media_handle|             email|cost_amount|english_description|french_description| payment_method_code|payment_method_value|payment_method_expiry|\n",
      "+-----------------+----------------------+-------+-------+--------------------+-------------------+-------------------+--------+------------------+----------+---------+--------------+-------------------+------------------+-----------+-------------------+------------------+--------------------+--------------------+---------------------+\n",
      "|                9|              ANNUALLY|      2|     19|                   9|2024-02-14 01:00:00|2024-12-16 01:00:00|  dwhite|dwhite@example.com|     Daisy|    White|172.23.215.121|               null|dwhite@example.com|       9.99|           Annually|            Annuel|MOBILE_PHONE_PLAT...|          SamsungPay|                10/25|\n",
      "+-----------------+----------------------+-------+-------+--------------------+-------------------+-------------------+--------+------------------+----------+---------+--------------+-------------------+------------------+-----------+-------------------+------------------+--------------------+--------------------+---------------------+\n",
      "only showing top 1 row\n",
      "\n"
     ]
    }
   ],
   "source": [
    "#fact_user_plan_df.show(1)"
   ]
  },
  {
   "cell_type": "code",
   "execution_count": 165,
   "metadata": {},
   "outputs": [
    {
     "name": "stdout",
     "output_type": "stream",
     "text": [
      "+---------------+-------+-------------+-------------------+------------------+------------+------------------+-----------+-----------------+--------------------+--------------------+-----------+------------------------+\n",
      "|play_session_id|user_id|   ip_address|social_media_handle|             email|channel_code|      channel_name|status_code|      status_name|      start_datetime|        end_datetime|total_score|session_duration_minutes|\n",
      "+---------------+-------+-------------+-------------------+------------------+------------+------------------+-----------+-----------------+--------------------+--------------------+-----------+------------------------+\n",
      "|            118|    418|10.162.149.64|             ccross|ccross@example.org|      MOBILE|Mobile application|  COMPLETED|Session completed|2024-06-26 12:33:...|2024-06-26 13:37:...|        772|                    64.0|\n",
      "+---------------+-------+-------------+-------------------+------------------+------------+------------------+-----------+-----------------+--------------------+--------------------+-----------+------------------------+\n",
      "only showing top 1 row\n",
      "\n"
     ]
    }
   ],
   "source": [
    "#fact_play_sessions_df.show(1)"
   ]
  },
  {
   "cell_type": "code",
   "execution_count": null,
   "metadata": {},
   "outputs": [],
   "source": [
    "fact_play_sessions_df \\\n",
    "    .groupBy(\"channel_code\") \\\n",
    "    .agg(\n",
    "        F.count(\"*\").alias(\"play_count\"),\n",
    "        F.sum(\"total_score\").alias(\"total_score_sum\")\n",
    "    ) \\\n",
    "    .orderBy(\"channel_code\") \\\n",
    "    .show()"
   ]
  },
  {
   "cell_type": "code",
   "execution_count": null,
   "metadata": {},
   "outputs": [],
   "source": []
  },
  {
   "cell_type": "code",
   "execution_count": null,
   "metadata": {},
   "outputs": [],
   "source": []
  }
 ],
 "metadata": {
  "kernelspec": {
   "display_name": "Python 3",
   "language": "python",
   "name": "python3"
  },
  "language_info": {
   "codemirror_mode": {
    "name": "ipython",
    "version": 3
   },
   "file_extension": ".py",
   "mimetype": "text/x-python",
   "name": "python",
   "nbconvert_exporter": "python",
   "pygments_lexer": "ipython3",
   "version": "3.8.5"
  }
 },
 "nbformat": 4,
 "nbformat_minor": 4
}
